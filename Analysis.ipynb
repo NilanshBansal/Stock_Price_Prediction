{
 "cells": [
  {
   "cell_type": "markdown",
   "metadata": {},
   "source": [
    "### Importing Libraries"
   ]
  },
  {
   "cell_type": "code",
   "execution_count": 1,
   "metadata": {},
   "outputs": [],
   "source": [
    "import numpy as np\n",
    "import pandas as pd\n",
    "import matplotlib.pyplot as plt\n",
    "import warnings\n",
    "warnings.filterwarnings(\"ignore\", message=\"numpy.dtype size changed\")"
   ]
  },
  {
   "cell_type": "markdown",
   "metadata": {},
   "source": [
    "### Importing Training Set"
   ]
  },
  {
   "cell_type": "code",
   "execution_count": 2,
   "metadata": {},
   "outputs": [],
   "source": [
    "training_set = pd.read_csv('Google_Stock_Price_Train.csv')"
   ]
  },
  {
   "cell_type": "code",
   "execution_count": 3,
   "metadata": {},
   "outputs": [
    {
     "data": {
      "text/html": [
       "<div>\n",
       "<style>\n",
       "    .dataframe thead tr:only-child th {\n",
       "        text-align: right;\n",
       "    }\n",
       "\n",
       "    .dataframe thead th {\n",
       "        text-align: left;\n",
       "    }\n",
       "\n",
       "    .dataframe tbody tr th {\n",
       "        vertical-align: top;\n",
       "    }\n",
       "</style>\n",
       "<table border=\"1\" class=\"dataframe\">\n",
       "  <thead>\n",
       "    <tr style=\"text-align: right;\">\n",
       "      <th></th>\n",
       "      <th>Date</th>\n",
       "      <th>Open</th>\n",
       "      <th>High</th>\n",
       "      <th>Low</th>\n",
       "      <th>Close</th>\n",
       "      <th>Volume</th>\n",
       "    </tr>\n",
       "  </thead>\n",
       "  <tbody>\n",
       "    <tr>\n",
       "      <th>0</th>\n",
       "      <td>1/3/2012</td>\n",
       "      <td>325.25</td>\n",
       "      <td>332.83</td>\n",
       "      <td>324.97</td>\n",
       "      <td>663.59</td>\n",
       "      <td>7,380,500</td>\n",
       "    </tr>\n",
       "    <tr>\n",
       "      <th>1</th>\n",
       "      <td>1/4/2012</td>\n",
       "      <td>331.27</td>\n",
       "      <td>333.87</td>\n",
       "      <td>329.08</td>\n",
       "      <td>666.45</td>\n",
       "      <td>5,749,400</td>\n",
       "    </tr>\n",
       "    <tr>\n",
       "      <th>2</th>\n",
       "      <td>1/5/2012</td>\n",
       "      <td>329.83</td>\n",
       "      <td>330.75</td>\n",
       "      <td>326.89</td>\n",
       "      <td>657.21</td>\n",
       "      <td>6,590,300</td>\n",
       "    </tr>\n",
       "    <tr>\n",
       "      <th>3</th>\n",
       "      <td>1/6/2012</td>\n",
       "      <td>328.34</td>\n",
       "      <td>328.77</td>\n",
       "      <td>323.68</td>\n",
       "      <td>648.24</td>\n",
       "      <td>5,405,900</td>\n",
       "    </tr>\n",
       "    <tr>\n",
       "      <th>4</th>\n",
       "      <td>1/9/2012</td>\n",
       "      <td>322.04</td>\n",
       "      <td>322.29</td>\n",
       "      <td>309.46</td>\n",
       "      <td>620.76</td>\n",
       "      <td>11,688,800</td>\n",
       "    </tr>\n",
       "  </tbody>\n",
       "</table>\n",
       "</div>"
      ],
      "text/plain": [
       "       Date    Open    High     Low   Close      Volume\n",
       "0  1/3/2012  325.25  332.83  324.97  663.59   7,380,500\n",
       "1  1/4/2012  331.27  333.87  329.08  666.45   5,749,400\n",
       "2  1/5/2012  329.83  330.75  326.89  657.21   6,590,300\n",
       "3  1/6/2012  328.34  328.77  323.68  648.24   5,405,900\n",
       "4  1/9/2012  322.04  322.29  309.46  620.76  11,688,800"
      ]
     },
     "execution_count": 3,
     "metadata": {},
     "output_type": "execute_result"
    }
   ],
   "source": [
    "training_set.head()"
   ]
  },
  {
   "cell_type": "code",
   "execution_count": 4,
   "metadata": {},
   "outputs": [],
   "source": [
    "training_set = training_set.iloc[:,1:2].values #Getting open stock prices"
   ]
  },
  {
   "cell_type": "markdown",
   "metadata": {},
   "source": [
    "### Feature Scaling"
   ]
  },
  {
   "cell_type": "code",
   "execution_count": 5,
   "metadata": {},
   "outputs": [],
   "source": [
    "from sklearn.preprocessing import MinMaxScaler"
   ]
  },
  {
   "cell_type": "code",
   "execution_count": 6,
   "metadata": {},
   "outputs": [],
   "source": [
    "sc = MinMaxScaler()"
   ]
  },
  {
   "cell_type": "code",
   "execution_count": 7,
   "metadata": {},
   "outputs": [],
   "source": [
    "training_set = sc.fit_transform(training_set)"
   ]
  },
  {
   "cell_type": "markdown",
   "metadata": {},
   "source": [
    "### Getting Inputs & Outputs"
   ]
  },
  {
   "cell_type": "code",
   "execution_count": 8,
   "metadata": {},
   "outputs": [
    {
     "data": {
      "text/plain": [
       "(1258, 1)"
      ]
     },
     "execution_count": 8,
     "metadata": {},
     "output_type": "execute_result"
    }
   ],
   "source": [
    "training_set.shape"
   ]
  },
  {
   "cell_type": "code",
   "execution_count": 9,
   "metadata": {},
   "outputs": [],
   "source": [
    "X_train = training_set[0:1257]  #Stock Price at time T"
   ]
  },
  {
   "cell_type": "code",
   "execution_count": 10,
   "metadata": {},
   "outputs": [],
   "source": [
    "y_train = training_set[1:1258]  #Prediction for Stock Price at time T+1"
   ]
  },
  {
   "cell_type": "markdown",
   "metadata": {},
   "source": [
    "### Reshaping X_train to include timestamp alongwith no of observations & no of features"
   ]
  },
  {
   "cell_type": "code",
   "execution_count": 11,
   "metadata": {},
   "outputs": [
    {
     "data": {
      "text/plain": [
       "(1257, 1)"
      ]
     },
     "execution_count": 11,
     "metadata": {},
     "output_type": "execute_result"
    }
   ],
   "source": [
    "X_train.shape"
   ]
  },
  {
   "cell_type": "code",
   "execution_count": 12,
   "metadata": {},
   "outputs": [],
   "source": [
    "X_train = np.reshape(X_train,(1257,1,1)) #Second Dimension is Timestamp = 1"
   ]
  },
  {
   "cell_type": "code",
   "execution_count": 13,
   "metadata": {},
   "outputs": [
    {
     "data": {
      "text/plain": [
       "(1257, 1, 1)"
      ]
     },
     "execution_count": 13,
     "metadata": {},
     "output_type": "execute_result"
    }
   ],
   "source": [
    "X_train.shape"
   ]
  },
  {
   "cell_type": "markdown",
   "metadata": {},
   "source": [
    "## Building RNN"
   ]
  },
  {
   "cell_type": "markdown",
   "metadata": {},
   "source": [
    "### Importing Libraries"
   ]
  },
  {
   "cell_type": "code",
   "execution_count": 14,
   "metadata": {},
   "outputs": [
    {
     "name": "stderr",
     "output_type": "stream",
     "text": [
      "Using TensorFlow backend.\n"
     ]
    }
   ],
   "source": [
    "from keras.models import Sequential\n",
    "from keras.layers import Dense,LSTM"
   ]
  },
  {
   "cell_type": "code",
   "execution_count": 15,
   "metadata": {},
   "outputs": [],
   "source": [
    "regressor = Sequential()"
   ]
  },
  {
   "cell_type": "markdown",
   "metadata": {},
   "source": [
    "#### Adding the Input Layer & the LSTM Layer"
   ]
  },
  {
   "cell_type": "code",
   "execution_count": 16,
   "metadata": {},
   "outputs": [],
   "source": [
    "regressor.add(LSTM(units=4,activation='sigmoid',input_shape=(None,1))) #None referes to the timestamp, shows that model can accept any timestamp can also be specified as 1 since our model uses 1 timestamp"
   ]
  },
  {
   "cell_type": "markdown",
   "metadata": {},
   "source": [
    "#### Adding the Output Layer"
   ]
  },
  {
   "cell_type": "code",
   "execution_count": 17,
   "metadata": {},
   "outputs": [],
   "source": [
    "regressor.add(Dense(units=1))"
   ]
  },
  {
   "cell_type": "markdown",
   "metadata": {},
   "source": [
    "#### Compiling RNN"
   ]
  },
  {
   "cell_type": "code",
   "execution_count": 18,
   "metadata": {},
   "outputs": [],
   "source": [
    "regressor.compile(optimizer='adam',loss='mean_squared_error')"
   ]
  },
  {
   "cell_type": "markdown",
   "metadata": {},
   "source": [
    "#### Fitting RNN"
   ]
  },
  {
   "cell_type": "code",
   "execution_count": 19,
   "metadata": {
    "scrolled": false
   },
   "outputs": [
    {
     "name": "stdout",
     "output_type": "stream",
     "text": [
      "Epoch 1/200\n",
      "1257/1257 [==============================] - 1s 693us/step - loss: 0.8800\n",
      "Epoch 2/200\n",
      "1257/1257 [==============================] - 0s 90us/step - loss: 0.7226\n",
      "Epoch 3/200\n",
      "1257/1257 [==============================] - 0s 93us/step - loss: 0.5939\n",
      "Epoch 4/200\n",
      "1257/1257 [==============================] - 0s 91us/step - loss: 0.4873\n",
      "Epoch 5/200\n",
      "1257/1257 [==============================] - 0s 90us/step - loss: 0.3997\n",
      "Epoch 6/200\n",
      "1257/1257 [==============================] - 0s 90us/step - loss: 0.3271\n",
      "Epoch 7/200\n",
      "1257/1257 [==============================] - 0s 92us/step - loss: 0.2672\n",
      "Epoch 8/200\n",
      "1257/1257 [==============================] - 0s 89us/step - loss: 0.2191\n",
      "Epoch 9/200\n",
      "1257/1257 [==============================] - 0s 90us/step - loss: 0.1805\n",
      "Epoch 10/200\n",
      "1257/1257 [==============================] - 0s 88us/step - loss: 0.1500\n",
      "Epoch 11/200\n",
      "1257/1257 [==============================] - 0s 90us/step - loss: 0.1261\n",
      "Epoch 12/200\n",
      "1257/1257 [==============================] - 0s 90us/step - loss: 0.1077\n",
      "Epoch 13/200\n",
      "1257/1257 [==============================] - 0s 94us/step - loss: 0.0941\n",
      "Epoch 14/200\n",
      "1257/1257 [==============================] - 0s 108us/step - loss: 0.0839\n",
      "Epoch 15/200\n",
      "1257/1257 [==============================] - 0s 90us/step - loss: 0.0767\n",
      "Epoch 16/200\n",
      "1257/1257 [==============================] - 0s 96us/step - loss: 0.0715\n",
      "Epoch 17/200\n",
      "1257/1257 [==============================] - 0s 95us/step - loss: 0.0678\n",
      "Epoch 18/200\n",
      "1257/1257 [==============================] - 0s 91us/step - loss: 0.0652\n",
      "Epoch 19/200\n",
      "1257/1257 [==============================] - 0s 99us/step - loss: 0.0633\n",
      "Epoch 20/200\n",
      "1257/1257 [==============================] - 0s 106us/step - loss: 0.0620\n",
      "Epoch 21/200\n",
      "1257/1257 [==============================] - 0s 91us/step - loss: 0.0609\n",
      "Epoch 22/200\n",
      "1257/1257 [==============================] - 0s 89us/step - loss: 0.0600\n",
      "Epoch 23/200\n",
      "1257/1257 [==============================] - 0s 91us/step - loss: 0.0592\n",
      "Epoch 24/200\n",
      "1257/1257 [==============================] - 0s 88us/step - loss: 0.0585\n",
      "Epoch 25/200\n",
      "1257/1257 [==============================] - 0s 101us/step - loss: 0.0578\n",
      "Epoch 26/200\n",
      "1257/1257 [==============================] - 0s 101us/step - loss: 0.0571\n",
      "Epoch 27/200\n",
      "1257/1257 [==============================] - 0s 89us/step - loss: 0.0564\n",
      "Epoch 28/200\n",
      "1257/1257 [==============================] - 0s 89us/step - loss: 0.0556\n",
      "Epoch 29/200\n",
      "1257/1257 [==============================] - 0s 93us/step - loss: 0.0549\n",
      "Epoch 30/200\n",
      "1257/1257 [==============================] - 0s 90us/step - loss: 0.0541\n",
      "Epoch 31/200\n",
      "1257/1257 [==============================] - 0s 92us/step - loss: 0.0533\n",
      "Epoch 32/200\n",
      "1257/1257 [==============================] - 0s 90us/step - loss: 0.0525\n",
      "Epoch 33/200\n",
      "1257/1257 [==============================] - 0s 89us/step - loss: 0.0516\n",
      "Epoch 34/200\n",
      "1257/1257 [==============================] - 0s 89us/step - loss: 0.0508\n",
      "Epoch 35/200\n",
      "1257/1257 [==============================] - 0s 101us/step - loss: 0.0499\n",
      "Epoch 36/200\n",
      "1257/1257 [==============================] - 0s 91us/step - loss: 0.0489\n",
      "Epoch 37/200\n",
      "1257/1257 [==============================] - 0s 96us/step - loss: 0.0480\n",
      "Epoch 38/200\n",
      "1257/1257 [==============================] - 0s 95us/step - loss: 0.0470\n",
      "Epoch 39/200\n",
      "1257/1257 [==============================] - 0s 96us/step - loss: 0.0460\n",
      "Epoch 40/200\n",
      "1257/1257 [==============================] - 0s 89us/step - loss: 0.0449\n",
      "Epoch 41/200\n",
      "1257/1257 [==============================] - 0s 88us/step - loss: 0.0439\n",
      "Epoch 42/200\n",
      "1257/1257 [==============================] - 0s 88us/step - loss: 0.0428\n",
      "Epoch 43/200\n",
      "1257/1257 [==============================] - 0s 85us/step - loss: 0.0418\n",
      "Epoch 44/200\n",
      "1257/1257 [==============================] - 0s 98us/step - loss: 0.0407\n",
      "Epoch 45/200\n",
      "1257/1257 [==============================] - 0s 98us/step - loss: 0.0396\n",
      "Epoch 46/200\n",
      "1257/1257 [==============================] - 0s 91us/step - loss: 0.0385\n",
      "Epoch 47/200\n",
      "1257/1257 [==============================] - 0s 97us/step - loss: 0.0374\n",
      "Epoch 48/200\n",
      "1257/1257 [==============================] - 0s 92us/step - loss: 0.0363\n",
      "Epoch 49/200\n",
      "1257/1257 [==============================] - 0s 93us/step - loss: 0.0351\n",
      "Epoch 50/200\n",
      "1257/1257 [==============================] - 0s 92us/step - loss: 0.0340\n",
      "Epoch 51/200\n",
      "1257/1257 [==============================] - 0s 95us/step - loss: 0.0329\n",
      "Epoch 52/200\n",
      "1257/1257 [==============================] - 0s 91us/step - loss: 0.0318\n",
      "Epoch 53/200\n",
      "1257/1257 [==============================] - 0s 93us/step - loss: 0.0307\n",
      "Epoch 54/200\n",
      "1257/1257 [==============================] - 0s 89us/step - loss: 0.0296\n",
      "Epoch 55/200\n",
      "1257/1257 [==============================] - 0s 86us/step - loss: 0.0284\n",
      "Epoch 56/200\n",
      "1257/1257 [==============================] - 0s 94us/step - loss: 0.0273\n",
      "Epoch 57/200\n",
      "1257/1257 [==============================] - 0s 88us/step - loss: 0.0262\n",
      "Epoch 58/200\n",
      "1257/1257 [==============================] - 0s 89us/step - loss: 0.0251\n",
      "Epoch 59/200\n",
      "1257/1257 [==============================] - 0s 89us/step - loss: 0.0240\n",
      "Epoch 60/200\n",
      "1257/1257 [==============================] - 0s 84us/step - loss: 0.0229\n",
      "Epoch 61/200\n",
      "1257/1257 [==============================] - 0s 88us/step - loss: 0.0218\n",
      "Epoch 62/200\n",
      "1257/1257 [==============================] - 0s 90us/step - loss: 0.0207\n",
      "Epoch 63/200\n",
      "1257/1257 [==============================] - 0s 86us/step - loss: 0.0196\n",
      "Epoch 64/200\n",
      "1257/1257 [==============================] - 0s 84us/step - loss: 0.0185\n",
      "Epoch 65/200\n",
      "1257/1257 [==============================] - 0s 86us/step - loss: 0.0175\n",
      "Epoch 66/200\n",
      "1257/1257 [==============================] - 0s 90us/step - loss: 0.0164\n",
      "Epoch 67/200\n",
      "1257/1257 [==============================] - 0s 85us/step - loss: 0.0154\n",
      "Epoch 68/200\n",
      "1257/1257 [==============================] - 0s 93us/step - loss: 0.0144\n",
      "Epoch 69/200\n",
      "1257/1257 [==============================] - 0s 94us/step - loss: 0.0135\n",
      "Epoch 70/200\n",
      "1257/1257 [==============================] - 0s 89us/step - loss: 0.0125\n",
      "Epoch 71/200\n",
      "1257/1257 [==============================] - 0s 83us/step - loss: 0.0116\n",
      "Epoch 72/200\n",
      "1257/1257 [==============================] - 0s 91us/step - loss: 0.0108\n",
      "Epoch 73/200\n",
      "1257/1257 [==============================] - 0s 101us/step - loss: 0.0099\n",
      "Epoch 74/200\n",
      "1257/1257 [==============================] - 0s 102us/step - loss: 0.0091\n",
      "Epoch 75/200\n",
      "1257/1257 [==============================] - 0s 85us/step - loss: 0.0084\n",
      "Epoch 76/200\n",
      "1257/1257 [==============================] - 0s 85us/step - loss: 0.0077\n",
      "Epoch 77/200\n",
      "1257/1257 [==============================] - 0s 86us/step - loss: 0.0070\n",
      "Epoch 78/200\n",
      "1257/1257 [==============================] - 0s 90us/step - loss: 0.0063\n",
      "Epoch 79/200\n",
      "1257/1257 [==============================] - 0s 89us/step - loss: 0.0057\n",
      "Epoch 80/200\n",
      "1257/1257 [==============================] - 0s 94us/step - loss: 0.0052\n",
      "Epoch 81/200\n",
      "1257/1257 [==============================] - 0s 91us/step - loss: 0.0047\n",
      "Epoch 82/200\n",
      "1257/1257 [==============================] - 0s 92us/step - loss: 0.0042\n",
      "Epoch 83/200\n",
      "1257/1257 [==============================] - 0s 90us/step - loss: 0.0037\n",
      "Epoch 84/200\n",
      "1257/1257 [==============================] - 0s 84us/step - loss: 0.0033\n",
      "Epoch 85/200\n",
      "1257/1257 [==============================] - 0s 90us/step - loss: 0.0030\n",
      "Epoch 86/200\n",
      "1257/1257 [==============================] - 0s 90us/step - loss: 0.0026\n",
      "Epoch 87/200\n",
      "1257/1257 [==============================] - 0s 110us/step - loss: 0.0023\n",
      "Epoch 88/200\n",
      "1257/1257 [==============================] - 0s 113us/step - loss: 0.0020\n",
      "Epoch 89/200\n",
      "1257/1257 [==============================] - 0s 115us/step - loss: 0.0018\n",
      "Epoch 90/200\n",
      "1257/1257 [==============================] - 0s 113us/step - loss: 0.0016\n",
      "Epoch 91/200\n",
      "1257/1257 [==============================] - 0s 113us/step - loss: 0.0014\n",
      "Epoch 92/200\n",
      "1257/1257 [==============================] - 0s 108us/step - loss: 0.0012\n",
      "Epoch 93/200\n",
      "1257/1257 [==============================] - 0s 110us/step - loss: 0.0011\n",
      "Epoch 94/200\n",
      "1257/1257 [==============================] - 0s 112us/step - loss: 9.5242e-04\n",
      "Epoch 95/200\n",
      "1257/1257 [==============================] - 0s 108us/step - loss: 8.4161e-04\n",
      "Epoch 96/200\n"
     ]
    },
    {
     "name": "stdout",
     "output_type": "stream",
     "text": [
      "1257/1257 [==============================] - 0s 110us/step - loss: 7.4641e-04\n",
      "Epoch 97/200\n",
      "1257/1257 [==============================] - 0s 86us/step - loss: 6.6493e-04\n",
      "Epoch 98/200\n",
      "1257/1257 [==============================] - 0s 101us/step - loss: 5.9565e-04\n",
      "Epoch 99/200\n",
      "1257/1257 [==============================] - 0s 107us/step - loss: 5.3812e-04\n",
      "Epoch 100/200\n",
      "1257/1257 [==============================] - 0s 106us/step - loss: 4.8814e-04\n",
      "Epoch 101/200\n",
      "1257/1257 [==============================] - 0s 103us/step - loss: 4.4730e-04\n",
      "Epoch 102/200\n",
      "1257/1257 [==============================] - 0s 102us/step - loss: 4.1309e-04\n",
      "Epoch 103/200\n",
      "1257/1257 [==============================] - 0s 90us/step - loss: 3.8503e-04\n",
      "Epoch 104/200\n",
      "1257/1257 [==============================] - 0s 91us/step - loss: 3.6288e-04\n",
      "Epoch 105/200\n",
      "1257/1257 [==============================] - 0s 88us/step - loss: 3.4387e-04\n",
      "Epoch 106/200\n",
      "1257/1257 [==============================] - 0s 98us/step - loss: 3.2807e-04\n",
      "Epoch 107/200\n",
      "1257/1257 [==============================] - 0s 107us/step - loss: 3.1597e-04\n",
      "Epoch 108/200\n",
      "1257/1257 [==============================] - 0s 99us/step - loss: 3.0608e-04\n",
      "Epoch 109/200\n",
      "1257/1257 [==============================] - 0s 110us/step - loss: 2.9812e-04\n",
      "Epoch 110/200\n",
      "1257/1257 [==============================] - 0s 120us/step - loss: 2.9157e-04\n",
      "Epoch 111/200\n",
      "1257/1257 [==============================] - 0s 93us/step - loss: 2.8677e-04\n",
      "Epoch 112/200\n",
      "1257/1257 [==============================] - 0s 90us/step - loss: 2.8250e-04\n",
      "Epoch 113/200\n",
      "1257/1257 [==============================] - 0s 90us/step - loss: 2.7940e-04\n",
      "Epoch 114/200\n",
      "1257/1257 [==============================] - 0s 89us/step - loss: 2.7684e-04\n",
      "Epoch 115/200\n",
      "1257/1257 [==============================] - 0s 102us/step - loss: 2.7463e-04\n",
      "Epoch 116/200\n",
      "1257/1257 [==============================] - 0s 115us/step - loss: 2.7330e-04\n",
      "Epoch 117/200\n",
      "1257/1257 [==============================] - 0s 114us/step - loss: 2.7186e-04\n",
      "Epoch 118/200\n",
      "1257/1257 [==============================] - 0s 120us/step - loss: 2.7099e-04\n",
      "Epoch 119/200\n",
      "1257/1257 [==============================] - 0s 115us/step - loss: 2.7122e-04\n",
      "Epoch 120/200\n",
      "1257/1257 [==============================] - 0s 110us/step - loss: 2.6843e-04\n",
      "Epoch 121/200\n",
      "1257/1257 [==============================] - 0s 97us/step - loss: 2.6813e-04\n",
      "Epoch 122/200\n",
      "1257/1257 [==============================] - 0s 85us/step - loss: 2.6777e-04\n",
      "Epoch 123/200\n",
      "1257/1257 [==============================] - 0s 89us/step - loss: 2.6673e-04\n",
      "Epoch 124/200\n",
      "1257/1257 [==============================] - 0s 92us/step - loss: 2.6590e-04\n",
      "Epoch 125/200\n",
      "1257/1257 [==============================] - 0s 94us/step - loss: 2.6504e-04\n",
      "Epoch 126/200\n",
      "1257/1257 [==============================] - 0s 105us/step - loss: 2.6590e-04\n",
      "Epoch 127/200\n",
      "1257/1257 [==============================] - 0s 112us/step - loss: 2.6456e-04\n",
      "Epoch 128/200\n",
      "1257/1257 [==============================] - 0s 123us/step - loss: 2.6356e-04\n",
      "Epoch 129/200\n",
      "1257/1257 [==============================] - 0s 123us/step - loss: 2.6337e-04\n",
      "Epoch 130/200\n",
      "1257/1257 [==============================] - 0s 113us/step - loss: 2.6221e-04\n",
      "Epoch 131/200\n",
      "1257/1257 [==============================] - 0s 105us/step - loss: 2.6175e-04\n",
      "Epoch 132/200\n",
      "1257/1257 [==============================] - 0s 113us/step - loss: 2.6108e-04\n",
      "Epoch 133/200\n",
      "1257/1257 [==============================] - 0s 116us/step - loss: 2.6099e-04\n",
      "Epoch 134/200\n",
      "1257/1257 [==============================] - 0s 102us/step - loss: 2.6051e-04\n",
      "Epoch 135/200\n",
      "1257/1257 [==============================] - 0s 100us/step - loss: 2.5982e-04\n",
      "Epoch 136/200\n",
      "1257/1257 [==============================] - 0s 106us/step - loss: 2.5980e-04\n",
      "Epoch 137/200\n",
      "1257/1257 [==============================] - 0s 113us/step - loss: 2.5928e-04\n",
      "Epoch 138/200\n",
      "1257/1257 [==============================] - 0s 111us/step - loss: 2.5906e-04\n",
      "Epoch 139/200\n",
      "1257/1257 [==============================] - 0s 91us/step - loss: 2.5930e-04\n",
      "Epoch 140/200\n",
      "1257/1257 [==============================] - 0s 91us/step - loss: 2.5878e-04\n",
      "Epoch 141/200\n",
      "1257/1257 [==============================] - 0s 93us/step - loss: 2.5932e-04\n",
      "Epoch 142/200\n",
      "1257/1257 [==============================] - 0s 97us/step - loss: 2.5818e-04\n",
      "Epoch 143/200\n",
      "1257/1257 [==============================] - 0s 108us/step - loss: 2.5768e-04\n",
      "Epoch 144/200\n",
      "1257/1257 [==============================] - 0s 114us/step - loss: 2.5774e-04\n",
      "Epoch 145/200\n",
      "1257/1257 [==============================] - 0s 115us/step - loss: 2.5874e-04\n",
      "Epoch 146/200\n",
      "1257/1257 [==============================] - 0s 110us/step - loss: 2.5824e-04\n",
      "Epoch 147/200\n",
      "1257/1257 [==============================] - 0s 121us/step - loss: 2.5706e-04\n",
      "Epoch 148/200\n",
      "1257/1257 [==============================] - 0s 101us/step - loss: 2.5641e-04\n",
      "Epoch 149/200\n",
      "1257/1257 [==============================] - 0s 101us/step - loss: 2.5611e-04\n",
      "Epoch 150/200\n",
      "1257/1257 [==============================] - 0s 108us/step - loss: 2.5611e-04\n",
      "Epoch 151/200\n",
      "1257/1257 [==============================] - 0s 106us/step - loss: 2.5606e-04\n",
      "Epoch 152/200\n",
      "1257/1257 [==============================] - 0s 108us/step - loss: 2.5540e-04\n",
      "Epoch 153/200\n",
      "1257/1257 [==============================] - 0s 113us/step - loss: 2.5507e-04\n",
      "Epoch 154/200\n",
      "1257/1257 [==============================] - 0s 113us/step - loss: 2.5480e-04\n",
      "Epoch 155/200\n",
      "1257/1257 [==============================] - 0s 110us/step - loss: 2.5491e-04\n",
      "Epoch 156/200\n",
      "1257/1257 [==============================] - 0s 112us/step - loss: 2.5521e-04\n",
      "Epoch 157/200\n",
      "1257/1257 [==============================] - 0s 109us/step - loss: 2.5418e-04\n",
      "Epoch 158/200\n",
      "1257/1257 [==============================] - 0s 115us/step - loss: 2.5458e-04\n",
      "Epoch 159/200\n",
      "1257/1257 [==============================] - 0s 102us/step - loss: 2.5393e-04\n",
      "Epoch 160/200\n",
      "1257/1257 [==============================] - 0s 99us/step - loss: 2.5351e-04\n",
      "Epoch 161/200\n",
      "1257/1257 [==============================] - 0s 107us/step - loss: 2.5373e-04\n",
      "Epoch 162/200\n",
      "1257/1257 [==============================] - 0s 112us/step - loss: 2.5335e-04\n",
      "Epoch 163/200\n",
      "1257/1257 [==============================] - 0s 125us/step - loss: 2.5354e-04\n",
      "Epoch 164/200\n",
      "1257/1257 [==============================] - 0s 106us/step - loss: 2.5343e-04\n",
      "Epoch 165/200\n",
      "1257/1257 [==============================] - 0s 103us/step - loss: 2.5295e-04\n",
      "Epoch 166/200\n",
      "1257/1257 [==============================] - 0s 100us/step - loss: 2.5301e-04\n",
      "Epoch 167/200\n",
      "1257/1257 [==============================] - 0s 93us/step - loss: 2.5370e-04\n",
      "Epoch 168/200\n",
      "1257/1257 [==============================] - 0s 96us/step - loss: 2.5303e-04\n",
      "Epoch 169/200\n",
      "1257/1257 [==============================] - 0s 114us/step - loss: 2.5374e-04\n",
      "Epoch 170/200\n",
      "1257/1257 [==============================] - 0s 108us/step - loss: 2.5237e-04\n",
      "Epoch 171/200\n",
      "1257/1257 [==============================] - 0s 105us/step - loss: 2.5186e-04\n",
      "Epoch 172/200\n",
      "1257/1257 [==============================] - 0s 106us/step - loss: 2.5328e-04\n",
      "Epoch 173/200\n",
      "1257/1257 [==============================] - 0s 108us/step - loss: 2.5307e-04\n",
      "Epoch 174/200\n",
      "1257/1257 [==============================] - 0s 110us/step - loss: 2.5195e-04\n",
      "Epoch 175/200\n",
      "1257/1257 [==============================] - 0s 102us/step - loss: 2.5236e-04\n",
      "Epoch 176/200\n",
      "1257/1257 [==============================] - 0s 106us/step - loss: 2.5261e-04\n",
      "Epoch 177/200\n",
      "1257/1257 [==============================] - 0s 101us/step - loss: 2.5254e-04\n",
      "Epoch 178/200\n",
      "1257/1257 [==============================] - 0s 102us/step - loss: 2.5234e-04\n",
      "Epoch 179/200\n",
      "1257/1257 [==============================] - 0s 112us/step - loss: 2.5250e-04\n",
      "Epoch 180/200\n",
      "1257/1257 [==============================] - 0s 104us/step - loss: 2.5282e-04\n",
      "Epoch 181/200\n",
      "1257/1257 [==============================] - 0s 99us/step - loss: 2.5157e-04\n",
      "Epoch 182/200\n",
      "1257/1257 [==============================] - 0s 106us/step - loss: 2.5336e-04\n",
      "Epoch 183/200\n",
      "1257/1257 [==============================] - 0s 99us/step - loss: 2.5207e-04\n",
      "Epoch 184/200\n",
      "1257/1257 [==============================] - 0s 104us/step - loss: 2.5329e-04\n",
      "Epoch 185/200\n"
     ]
    },
    {
     "name": "stdout",
     "output_type": "stream",
     "text": [
      "1257/1257 [==============================] - 0s 115us/step - loss: 2.5338e-04\n",
      "Epoch 186/200\n",
      "1257/1257 [==============================] - 0s 106us/step - loss: 2.5285e-04\n",
      "Epoch 187/200\n",
      "1257/1257 [==============================] - 0s 91us/step - loss: 2.5112e-04\n",
      "Epoch 188/200\n",
      "1257/1257 [==============================] - 0s 88us/step - loss: 2.5257e-04\n",
      "Epoch 189/200\n",
      "1257/1257 [==============================] - 0s 85us/step - loss: 2.5180e-04\n",
      "Epoch 190/200\n",
      "1257/1257 [==============================] - 0s 88us/step - loss: 2.5052e-04\n",
      "Epoch 191/200\n",
      "1257/1257 [==============================] - 0s 91us/step - loss: 2.5183e-04\n",
      "Epoch 192/200\n",
      "1257/1257 [==============================] - 0s 110us/step - loss: 2.5031e-04\n",
      "Epoch 193/200\n",
      "1257/1257 [==============================] - 0s 100us/step - loss: 2.5173e-04\n",
      "Epoch 194/200\n",
      "1257/1257 [==============================] - 0s 112us/step - loss: 2.5141e-04\n",
      "Epoch 195/200\n",
      "1257/1257 [==============================] - 0s 120us/step - loss: 2.5164e-04\n",
      "Epoch 196/200\n",
      "1257/1257 [==============================] - 0s 107us/step - loss: 2.5216e-04\n",
      "Epoch 197/200\n",
      "1257/1257 [==============================] - 0s 112us/step - loss: 2.5379e-04\n",
      "Epoch 198/200\n",
      "1257/1257 [==============================] - 0s 109us/step - loss: 2.5125e-04\n",
      "Epoch 199/200\n",
      "1257/1257 [==============================] - 0s 117us/step - loss: 2.5276e-04\n",
      "Epoch 200/200\n",
      "1257/1257 [==============================] - 0s 122us/step - loss: 2.5253e-04\n"
     ]
    },
    {
     "data": {
      "text/plain": [
       "<keras.callbacks.History at 0x11142d630>"
      ]
     },
     "execution_count": 19,
     "metadata": {},
     "output_type": "execute_result"
    }
   ],
   "source": [
    "regressor.fit(X_train,y_train,batch_size=32,epochs=200)"
   ]
  },
  {
   "cell_type": "markdown",
   "metadata": {},
   "source": [
    "### Making Predictions"
   ]
  },
  {
   "cell_type": "markdown",
   "metadata": {},
   "source": [
    "### Importing Test Set"
   ]
  },
  {
   "cell_type": "code",
   "execution_count": 20,
   "metadata": {},
   "outputs": [],
   "source": [
    "test_set = pd.read_csv('Google_Stock_Price_Test.csv')"
   ]
  },
  {
   "cell_type": "code",
   "execution_count": 21,
   "metadata": {},
   "outputs": [
    {
     "data": {
      "text/html": [
       "<div>\n",
       "<style>\n",
       "    .dataframe thead tr:only-child th {\n",
       "        text-align: right;\n",
       "    }\n",
       "\n",
       "    .dataframe thead th {\n",
       "        text-align: left;\n",
       "    }\n",
       "\n",
       "    .dataframe tbody tr th {\n",
       "        vertical-align: top;\n",
       "    }\n",
       "</style>\n",
       "<table border=\"1\" class=\"dataframe\">\n",
       "  <thead>\n",
       "    <tr style=\"text-align: right;\">\n",
       "      <th></th>\n",
       "      <th>Date</th>\n",
       "      <th>Open</th>\n",
       "      <th>High</th>\n",
       "      <th>Low</th>\n",
       "      <th>Close</th>\n",
       "      <th>Volume</th>\n",
       "    </tr>\n",
       "  </thead>\n",
       "  <tbody>\n",
       "    <tr>\n",
       "      <th>0</th>\n",
       "      <td>1/3/2017</td>\n",
       "      <td>778.81</td>\n",
       "      <td>789.63</td>\n",
       "      <td>775.80</td>\n",
       "      <td>786.14</td>\n",
       "      <td>1,657,300</td>\n",
       "    </tr>\n",
       "    <tr>\n",
       "      <th>1</th>\n",
       "      <td>1/4/2017</td>\n",
       "      <td>788.36</td>\n",
       "      <td>791.34</td>\n",
       "      <td>783.16</td>\n",
       "      <td>786.90</td>\n",
       "      <td>1,073,000</td>\n",
       "    </tr>\n",
       "    <tr>\n",
       "      <th>2</th>\n",
       "      <td>1/5/2017</td>\n",
       "      <td>786.08</td>\n",
       "      <td>794.48</td>\n",
       "      <td>785.02</td>\n",
       "      <td>794.02</td>\n",
       "      <td>1,335,200</td>\n",
       "    </tr>\n",
       "    <tr>\n",
       "      <th>3</th>\n",
       "      <td>1/6/2017</td>\n",
       "      <td>795.26</td>\n",
       "      <td>807.90</td>\n",
       "      <td>792.20</td>\n",
       "      <td>806.15</td>\n",
       "      <td>1,640,200</td>\n",
       "    </tr>\n",
       "    <tr>\n",
       "      <th>4</th>\n",
       "      <td>1/9/2017</td>\n",
       "      <td>806.40</td>\n",
       "      <td>809.97</td>\n",
       "      <td>802.83</td>\n",
       "      <td>806.65</td>\n",
       "      <td>1,272,400</td>\n",
       "    </tr>\n",
       "  </tbody>\n",
       "</table>\n",
       "</div>"
      ],
      "text/plain": [
       "       Date    Open    High     Low   Close     Volume\n",
       "0  1/3/2017  778.81  789.63  775.80  786.14  1,657,300\n",
       "1  1/4/2017  788.36  791.34  783.16  786.90  1,073,000\n",
       "2  1/5/2017  786.08  794.48  785.02  794.02  1,335,200\n",
       "3  1/6/2017  795.26  807.90  792.20  806.15  1,640,200\n",
       "4  1/9/2017  806.40  809.97  802.83  806.65  1,272,400"
      ]
     },
     "execution_count": 21,
     "metadata": {},
     "output_type": "execute_result"
    }
   ],
   "source": [
    "test_set.head()"
   ]
  },
  {
   "cell_type": "code",
   "execution_count": 22,
   "metadata": {},
   "outputs": [],
   "source": [
    "real_stock_price = test_set.iloc[:,1:2].values"
   ]
  },
  {
   "cell_type": "code",
   "execution_count": 23,
   "metadata": {},
   "outputs": [],
   "source": [
    "inputs = real_stock_price"
   ]
  },
  {
   "cell_type": "markdown",
   "metadata": {},
   "source": [
    "#### Scaling Test Data"
   ]
  },
  {
   "cell_type": "code",
   "execution_count": 24,
   "metadata": {},
   "outputs": [],
   "source": [
    "inputs = sc.transform(inputs)"
   ]
  },
  {
   "cell_type": "code",
   "execution_count": 25,
   "metadata": {},
   "outputs": [
    {
     "data": {
      "text/plain": [
       "(20, 1)"
      ]
     },
     "execution_count": 25,
     "metadata": {},
     "output_type": "execute_result"
    }
   ],
   "source": [
    "inputs.shape"
   ]
  },
  {
   "cell_type": "markdown",
   "metadata": {},
   "source": [
    "#### Reshaping Test Data"
   ]
  },
  {
   "cell_type": "code",
   "execution_count": 26,
   "metadata": {},
   "outputs": [],
   "source": [
    "inputs = np.reshape(inputs,(20,1,1))"
   ]
  },
  {
   "cell_type": "markdown",
   "metadata": {},
   "source": [
    "#### Prediction"
   ]
  },
  {
   "cell_type": "code",
   "execution_count": 27,
   "metadata": {},
   "outputs": [],
   "source": [
    "predicted_stock_price = regressor.predict(inputs)"
   ]
  },
  {
   "cell_type": "code",
   "execution_count": 28,
   "metadata": {},
   "outputs": [
    {
     "data": {
      "text/plain": [
       "array([[ 0.92572939],\n",
       "       [ 0.94204855],\n",
       "       [ 0.93815601],\n",
       "       [ 0.95381546],\n",
       "       [ 0.96747911],\n",
       "       [ 0.96874464],\n",
       "       [ 0.96626461],\n",
       "       [ 0.96812069],\n",
       "       [ 0.96841538],\n",
       "       [ 0.96806872],\n",
       "       [ 0.96696746],\n",
       "       [ 0.96636879],\n",
       "       [ 0.96792138],\n",
       "       [ 0.96821606],\n",
       "       [ 0.98119867],\n",
       "       [ 0.98747003],\n",
       "       [ 0.99445474],\n",
       "       [ 0.99181497],\n",
       "       [ 0.9746232 ],\n",
       "       [ 0.95654106]], dtype=float32)"
      ]
     },
     "execution_count": 28,
     "metadata": {},
     "output_type": "execute_result"
    }
   ],
   "source": [
    "predicted_stock_price"
   ]
  },
  {
   "cell_type": "code",
   "execution_count": 29,
   "metadata": {},
   "outputs": [],
   "source": [
    "predicted_stock_price = sc.inverse_transform(predicted_stock_price) #Bringing to the same scale as original data"
   ]
  },
  {
   "cell_type": "markdown",
   "metadata": {},
   "source": [
    "#### Visualising Results"
   ]
  },
  {
   "cell_type": "code",
   "execution_count": 30,
   "metadata": {},
   "outputs": [
    {
     "data": {
      "image/png": "[encoded data removed]",
      "text/plain": [
       "<matplotlib.figure.Figure at 0x111d7a160>"
      ]
     },
     "metadata": {},
     "output_type": "display_data"
    }
   ],
   "source": [
    "plt.plot(real_stock_price,color='red',label='Real Google Stock Price')\n",
    "plt.plot(predicted_stock_price,color='blue',label='Predicted Google Stock Price')\n",
    "plt.title('Google Stock Price Prediction')\n",
    "plt.xlabel('Time')\n",
    "plt.ylabel('Google Stock Price')\n",
    "plt.legend()\n",
    "plt.show()"
   ]
  },
  {
   "cell_type": "markdown",
   "metadata": {},
   "source": [
    "#### Evaluating the RNN "
   ]
  },
  {
   "cell_type": "code",
   "execution_count": 31,
   "metadata": {},
   "outputs": [],
   "source": [
    "import math\n",
    "from sklearn.metrics import mean_squared_error"
   ]
  },
  {
   "cell_type": "code",
   "execution_count": 32,
   "metadata": {},
   "outputs": [],
   "source": [
    "rmse = math.sqrt(mean_squared_error(real_stock_price,predicted_stock_price))"
   ]
  },
  {
   "cell_type": "code",
   "execution_count": 33,
   "metadata": {},
   "outputs": [
    {
     "data": {
      "text/plain": [
       "11.032800780219805"
      ]
     },
     "execution_count": 33,
     "metadata": {},
     "output_type": "execute_result"
    }
   ],
   "source": [
    "rmse"
   ]
  },
  {
   "cell_type": "code",
   "execution_count": 34,
   "metadata": {},
   "outputs": [
    {
     "data": {
      "text/plain": [
       "807.52600000000007"
      ]
     },
     "execution_count": 34,
     "metadata": {},
     "output_type": "execute_result"
    }
   ],
   "source": [
    "np.average(real_stock_price)"
   ]
  },
  {
   "cell_type": "code",
   "execution_count": 37,
   "metadata": {},
   "outputs": [],
   "source": [
    "error_percentage = (rmse/807)*100"
   ]
  },
  {
   "cell_type": "code",
   "execution_count": 38,
   "metadata": {},
   "outputs": [
    {
     "data": {
      "text/plain": [
       "1.3671376431499138"
      ]
     },
     "execution_count": 38,
     "metadata": {},
     "output_type": "execute_result"
    }
   ],
   "source": [
    "error_percentage"
   ]
  },
  {
   "cell_type": "code",
   "execution_count": null,
   "metadata": {},
   "outputs": [],
   "source": []
  }
 ],
 "metadata": {
  "kernelspec": {
   "display_name": "Python 3",
   "language": "python",
   "name": "python3"
  },
  "language_info": {
   "codemirror_mode": {
    "name": "ipython",
    "version": 3
   },
   "file_extension": ".py",
   "mimetype": "text/x-python",
   "name": "python",
   "nbconvert_exporter": "python",
   "pygments_lexer": "ipython3",
   "version": "3.6.6"
  }
 },
 "nbformat": 4,
 "nbformat_minor": 2
}
