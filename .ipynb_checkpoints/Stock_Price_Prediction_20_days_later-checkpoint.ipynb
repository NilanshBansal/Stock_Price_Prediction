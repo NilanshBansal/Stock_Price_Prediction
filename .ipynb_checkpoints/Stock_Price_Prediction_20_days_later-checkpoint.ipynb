{
 "cells": [
  {
   "cell_type": "code",
   "execution_count": 1,
   "metadata": {},
   "outputs": [],
   "source": [
    "import numpy as np\n",
    "import pandas as pd\n",
    "import matplotlib.pyplot as plt"
   ]
  },
  {
   "cell_type": "code",
   "execution_count": 2,
   "metadata": {},
   "outputs": [],
   "source": [
    "training_set = pd.read_csv('Google_Stock_Price_Train.csv')"
   ]
  },
  {
   "cell_type": "code",
   "execution_count": 3,
   "metadata": {},
   "outputs": [
    {
     "data": {
      "text/html": [
       "<div>\n",
       "<style>\n",
       "    .dataframe thead tr:only-child th {\n",
       "        text-align: right;\n",
       "    }\n",
       "\n",
       "    .dataframe thead th {\n",
       "        text-align: left;\n",
       "    }\n",
       "\n",
       "    .dataframe tbody tr th {\n",
       "        vertical-align: top;\n",
       "    }\n",
       "</style>\n",
       "<table border=\"1\" class=\"dataframe\">\n",
       "  <thead>\n",
       "    <tr style=\"text-align: right;\">\n",
       "      <th></th>\n",
       "      <th>Date</th>\n",
       "      <th>Open</th>\n",
       "      <th>High</th>\n",
       "      <th>Low</th>\n",
       "      <th>Close</th>\n",
       "      <th>Volume</th>\n",
       "    </tr>\n",
       "  </thead>\n",
       "  <tbody>\n",
       "    <tr>\n",
       "      <th>0</th>\n",
       "      <td>1/3/2012</td>\n",
       "      <td>325.25</td>\n",
       "      <td>332.83</td>\n",
       "      <td>324.97</td>\n",
       "      <td>663.59</td>\n",
       "      <td>7,380,500</td>\n",
       "    </tr>\n",
       "    <tr>\n",
       "      <th>1</th>\n",
       "      <td>1/4/2012</td>\n",
       "      <td>331.27</td>\n",
       "      <td>333.87</td>\n",
       "      <td>329.08</td>\n",
       "      <td>666.45</td>\n",
       "      <td>5,749,400</td>\n",
       "    </tr>\n",
       "    <tr>\n",
       "      <th>2</th>\n",
       "      <td>1/5/2012</td>\n",
       "      <td>329.83</td>\n",
       "      <td>330.75</td>\n",
       "      <td>326.89</td>\n",
       "      <td>657.21</td>\n",
       "      <td>6,590,300</td>\n",
       "    </tr>\n",
       "    <tr>\n",
       "      <th>3</th>\n",
       "      <td>1/6/2012</td>\n",
       "      <td>328.34</td>\n",
       "      <td>328.77</td>\n",
       "      <td>323.68</td>\n",
       "      <td>648.24</td>\n",
       "      <td>5,405,900</td>\n",
       "    </tr>\n",
       "    <tr>\n",
       "      <th>4</th>\n",
       "      <td>1/9/2012</td>\n",
       "      <td>322.04</td>\n",
       "      <td>322.29</td>\n",
       "      <td>309.46</td>\n",
       "      <td>620.76</td>\n",
       "      <td>11,688,800</td>\n",
       "    </tr>\n",
       "  </tbody>\n",
       "</table>\n",
       "</div>"
      ],
      "text/plain": [
       "       Date    Open    High     Low   Close      Volume\n",
       "0  1/3/2012  325.25  332.83  324.97  663.59   7,380,500\n",
       "1  1/4/2012  331.27  333.87  329.08  666.45   5,749,400\n",
       "2  1/5/2012  329.83  330.75  326.89  657.21   6,590,300\n",
       "3  1/6/2012  328.34  328.77  323.68  648.24   5,405,900\n",
       "4  1/9/2012  322.04  322.29  309.46  620.76  11,688,800"
      ]
     },
     "execution_count": 3,
     "metadata": {},
     "output_type": "execute_result"
    }
   ],
   "source": [
    "training_set.head()"
   ]
  },
  {
   "cell_type": "code",
   "execution_count": 4,
   "metadata": {},
   "outputs": [],
   "source": [
    "training_set = training_set.iloc[:,1:2].values"
   ]
  },
  {
   "cell_type": "markdown",
   "metadata": {},
   "source": [
    "#### Feature Scaling"
   ]
  },
  {
   "cell_type": "code",
   "execution_count": 5,
   "metadata": {},
   "outputs": [],
   "source": [
    "from sklearn.preprocessing import MinMaxScaler"
   ]
  },
  {
   "cell_type": "code",
   "execution_count": 6,
   "metadata": {},
   "outputs": [],
   "source": [
    "sc = MinMaxScaler()"
   ]
  },
  {
   "cell_type": "code",
   "execution_count": 7,
   "metadata": {},
   "outputs": [],
   "source": [
    "training_set = sc.fit_transform(training_set)"
   ]
  },
  {
   "cell_type": "markdown",
   "metadata": {},
   "source": [
    "#### Getting Inputs & Outputs"
   ]
  },
  {
   "cell_type": "code",
   "execution_count": 8,
   "metadata": {},
   "outputs": [
    {
     "data": {
      "text/plain": [
       "(1258, 1)"
      ]
     },
     "execution_count": 8,
     "metadata": {},
     "output_type": "execute_result"
    }
   ],
   "source": [
    "training_set.shape"
   ]
  },
  {
   "cell_type": "code",
   "execution_count": 9,
   "metadata": {},
   "outputs": [
    {
     "data": {
      "text/plain": [
       "array([[ 0.08581368],\n",
       "       [ 0.09701243],\n",
       "       [ 0.09433366],\n",
       "       ..., \n",
       "       [ 0.95725128],\n",
       "       [ 0.93796041],\n",
       "       [ 0.93688146]])"
      ]
     },
     "execution_count": 9,
     "metadata": {},
     "output_type": "execute_result"
    }
   ],
   "source": [
    "training_set"
   ]
  },
  {
   "cell_type": "code",
   "execution_count": 10,
   "metadata": {},
   "outputs": [],
   "source": [
    "X_train = []\n",
    "y_train = []\n",
    "for i in range(20,1258):\n",
    "    X_train.append(training_set[i-20:i,0])\n",
    "    y_train.append(training_set[i,0])\n",
    "    "
   ]
  },
  {
   "cell_type": "code",
   "execution_count": 11,
   "metadata": {},
   "outputs": [],
   "source": [
    "X_train,y_train = np.array(X_train),np.array(y_train)"
   ]
  },
  {
   "cell_type": "code",
   "execution_count": 12,
   "metadata": {},
   "outputs": [
    {
     "data": {
      "text/plain": [
       "(1238, 20)"
      ]
     },
     "execution_count": 12,
     "metadata": {},
     "output_type": "execute_result"
    }
   ],
   "source": [
    "X_train.shape"
   ]
  },
  {
   "cell_type": "markdown",
   "metadata": {},
   "source": [
    "#### Reshaping"
   ]
  },
  {
   "cell_type": "code",
   "execution_count": 13,
   "metadata": {},
   "outputs": [],
   "source": [
    "X_train = np.reshape(X_train,(X_train.shape[0],X_train.shape[1],1))"
   ]
  },
  {
   "cell_type": "markdown",
   "metadata": {},
   "source": [
    "#### Building the RNN"
   ]
  },
  {
   "cell_type": "code",
   "execution_count": 14,
   "metadata": {},
   "outputs": [
    {
     "name": "stderr",
     "output_type": "stream",
     "text": [
      "Using TensorFlow backend.\n"
     ]
    }
   ],
   "source": [
    "from keras.models import Sequential\n",
    "from keras.layers import LSTM,Dense"
   ]
  },
  {
   "cell_type": "code",
   "execution_count": 15,
   "metadata": {},
   "outputs": [],
   "source": [
    "regressor = Sequential()"
   ]
  },
  {
   "cell_type": "code",
   "execution_count": 16,
   "metadata": {},
   "outputs": [],
   "source": [
    "regressor.add(LSTM(units=4,activation='sigmoid',input_shape=(None,1)))"
   ]
  },
  {
   "cell_type": "code",
   "execution_count": 17,
   "metadata": {},
   "outputs": [],
   "source": [
    "regressor.add(Dense(units=1))"
   ]
  },
  {
   "cell_type": "code",
   "execution_count": 18,
   "metadata": {},
   "outputs": [],
   "source": [
    "regressor.compile(optimizer='rmsprop',loss='mean_squared_error')"
   ]
  },
  {
   "cell_type": "code",
   "execution_count": 19,
   "metadata": {},
   "outputs": [
    {
     "name": "stdout",
     "output_type": "stream",
     "text": [
      "Epoch 1/100\n",
      "1238/1238 [==============================] - 1s 1ms/step - loss: 0.4837\n",
      "Epoch 2/100\n",
      "1238/1238 [==============================] - 1s 591us/step - loss: 0.3347\n",
      "Epoch 3/100\n",
      "1238/1238 [==============================] - 1s 583us/step - loss: 0.2195\n",
      "Epoch 4/100\n",
      "1238/1238 [==============================] - 1s 656us/step - loss: 0.1339\n",
      "Epoch 5/100\n",
      "1238/1238 [==============================] - 1s 591us/step - loss: 0.0799\n",
      "Epoch 6/100\n",
      "1238/1238 [==============================] - 1s 662us/step - loss: 0.0599\n",
      "Epoch 7/100\n",
      "1238/1238 [==============================] - 1s 713us/step - loss: 0.0547\n",
      "Epoch 8/100\n",
      "1238/1238 [==============================] - 1s 620us/step - loss: 0.0509\n",
      "Epoch 9/100\n",
      "1238/1238 [==============================] - 1s 769us/step - loss: 0.0470\n",
      "Epoch 10/100\n",
      "1238/1238 [==============================] - 1s 794us/step - loss: 0.0426\n",
      "Epoch 11/100\n",
      "1238/1238 [==============================] - 1s 696us/step - loss: 0.0378\n",
      "Epoch 12/100\n",
      "1238/1238 [==============================] - 1s 602us/step - loss: 0.0326\n",
      "Epoch 13/100\n",
      "1238/1238 [==============================] - 1s 612us/step - loss: 0.0274\n",
      "Epoch 14/100\n",
      "1238/1238 [==============================] - 1s 644us/step - loss: 0.0220\n",
      "Epoch 15/100\n",
      "1238/1238 [==============================] - 1s 683us/step - loss: 0.0167\n",
      "Epoch 16/100\n",
      "1238/1238 [==============================] - 1s 646us/step - loss: 0.0117\n",
      "Epoch 17/100\n",
      "1238/1238 [==============================] - 1s 600us/step - loss: 0.0071\n",
      "Epoch 18/100\n",
      "1238/1238 [==============================] - 1s 697us/step - loss: 0.0036\n",
      "Epoch 19/100\n",
      "1238/1238 [==============================] - 1s 667us/step - loss: 0.0017\n",
      "Epoch 20/100\n",
      "1238/1238 [==============================] - 1s 753us/step - loss: 8.7476e-04\n",
      "Epoch 21/100\n",
      "1238/1238 [==============================] - 1s 613us/step - loss: 6.7935e-04\n",
      "Epoch 22/100\n",
      "1238/1238 [==============================] - 1s 575us/step - loss: 6.4985e-04\n",
      "Epoch 23/100\n",
      "1238/1238 [==============================] - 1s 550us/step - loss: 6.3423e-04\n",
      "Epoch 24/100\n",
      "1238/1238 [==============================] - 1s 539us/step - loss: 6.2167e-04\n",
      "Epoch 25/100\n",
      "1238/1238 [==============================] - 1s 597us/step - loss: 6.0093e-04\n",
      "Epoch 26/100\n",
      "1238/1238 [==============================] - 1s 576us/step - loss: 5.9403e-04\n",
      "Epoch 27/100\n",
      "1238/1238 [==============================] - 1s 604us/step - loss: 5.8831e-04\n",
      "Epoch 28/100\n",
      "1238/1238 [==============================] - 1s 566us/step - loss: 5.7283e-04\n",
      "Epoch 29/100\n",
      "1238/1238 [==============================] - 1s 621us/step - loss: 5.6192e-04\n",
      "Epoch 30/100\n",
      "1238/1238 [==============================] - 1s 542us/step - loss: 5.5826e-04\n",
      "Epoch 31/100\n",
      "1238/1238 [==============================] - 1s 552us/step - loss: 5.4644e-04\n",
      "Epoch 32/100\n",
      "1238/1238 [==============================] - 1s 545us/step - loss: 5.3647e-04\n",
      "Epoch 33/100\n",
      "1238/1238 [==============================] - 1s 549us/step - loss: 5.2426e-04\n",
      "Epoch 34/100\n",
      "1238/1238 [==============================] - 1s 575us/step - loss: 5.1544e-04\n",
      "Epoch 35/100\n",
      "1238/1238 [==============================] - 1s 593us/step - loss: 5.2083e-04\n",
      "Epoch 36/100\n",
      "1238/1238 [==============================] - 1s 612us/step - loss: 5.0164e-04\n",
      "Epoch 37/100\n",
      "1238/1238 [==============================] - 1s 576us/step - loss: 4.9808e-04\n",
      "Epoch 38/100\n",
      "1238/1238 [==============================] - 1s 593us/step - loss: 5.1001e-04\n",
      "Epoch 39/100\n",
      "1238/1238 [==============================] - 1s 610us/step - loss: 4.9717e-04\n",
      "Epoch 40/100\n",
      "1238/1238 [==============================] - 1s 562us/step - loss: 4.8631e-04\n",
      "Epoch 41/100\n",
      "1238/1238 [==============================] - 1s 543us/step - loss: 4.8265e-04\n",
      "Epoch 42/100\n",
      "1238/1238 [==============================] - 1s 542us/step - loss: 4.8143e-04\n",
      "Epoch 43/100\n",
      "1238/1238 [==============================] - ETA: 0s - loss: 4.5729e-0 - 1s 556us/step - loss: 4.6828e-04\n",
      "Epoch 44/100\n",
      "1238/1238 [==============================] - 1s 613us/step - loss: 4.6237e-04\n",
      "Epoch 45/100\n",
      "1238/1238 [==============================] - 1s 545us/step - loss: 4.6105e-04\n",
      "Epoch 46/100\n",
      "1238/1238 [==============================] - 1s 584us/step - loss: 4.5893e-04\n",
      "Epoch 47/100\n",
      "1238/1238 [==============================] - 1s 546us/step - loss: 4.5515e-04\n",
      "Epoch 48/100\n",
      "1238/1238 [==============================] - 1s 543us/step - loss: 4.4251e-04\n",
      "Epoch 49/100\n",
      "1238/1238 [==============================] - 1s 545us/step - loss: 4.5374e-04\n",
      "Epoch 50/100\n",
      "1238/1238 [==============================] - 1s 544us/step - loss: 4.4026e-04\n",
      "Epoch 51/100\n",
      "1238/1238 [==============================] - 1s 545us/step - loss: 4.3504e-04\n",
      "Epoch 52/100\n",
      "1238/1238 [==============================] - 1s 544us/step - loss: 4.4824e-04\n",
      "Epoch 53/100\n",
      "1238/1238 [==============================] - 1s 543us/step - loss: 4.2587e-04\n",
      "Epoch 54/100\n",
      "1238/1238 [==============================] - 1s 546us/step - loss: 4.2734e-04\n",
      "Epoch 55/100\n",
      "1238/1238 [==============================] - 1s 541us/step - loss: 4.2855e-04\n",
      "Epoch 56/100\n",
      "1238/1238 [==============================] - 1s 546us/step - loss: 4.2522e-04\n",
      "Epoch 57/100\n",
      "1238/1238 [==============================] - 1s 543us/step - loss: 4.1312e-04\n",
      "Epoch 58/100\n",
      "1238/1238 [==============================] - 1s 535us/step - loss: 4.2694e-04\n",
      "Epoch 59/100\n",
      "1238/1238 [==============================] - 1s 543us/step - loss: 4.1268e-04\n",
      "Epoch 60/100\n",
      "1238/1238 [==============================] - 1s 544us/step - loss: 4.1436e-04\n",
      "Epoch 61/100\n",
      "1238/1238 [==============================] - 1s 575us/step - loss: 4.1536e-04\n",
      "Epoch 62/100\n",
      "1238/1238 [==============================] - 1s 588us/step - loss: 4.1090e-04\n",
      "Epoch 63/100\n",
      "1238/1238 [==============================] - 1s 586us/step - loss: 4.0888e-04\n",
      "Epoch 64/100\n",
      "1238/1238 [==============================] - 1s 541us/step - loss: 4.0474e-04\n",
      "Epoch 65/100\n",
      "1238/1238 [==============================] - 1s 538us/step - loss: 4.0306e-04\n",
      "Epoch 66/100\n",
      "1238/1238 [==============================] - 1s 548us/step - loss: 4.0181e-04\n",
      "Epoch 67/100\n",
      "1238/1238 [==============================] - 1s 570us/step - loss: 4.0185e-04\n",
      "Epoch 68/100\n",
      "1238/1238 [==============================] - 1s 542us/step - loss: 4.0031e-04\n",
      "Epoch 69/100\n",
      "1238/1238 [==============================] - 1s 539us/step - loss: 3.9052e-04\n",
      "Epoch 70/100\n",
      "1238/1238 [==============================] - 1s 541us/step - loss: 3.9187e-04\n",
      "Epoch 71/100\n",
      "1238/1238 [==============================] - 1s 541us/step - loss: 3.8792e-04\n",
      "Epoch 72/100\n",
      "1238/1238 [==============================] - 1s 545us/step - loss: 3.8604e-04\n",
      "Epoch 73/100\n",
      "1238/1238 [==============================] - 1s 541us/step - loss: 3.8976e-04\n",
      "Epoch 74/100\n",
      "1238/1238 [==============================] - 1s 562us/step - loss: 3.9490e-04\n",
      "Epoch 75/100\n",
      "1238/1238 [==============================] - 1s 596us/step - loss: 3.8369e-04\n",
      "Epoch 76/100\n",
      "1238/1238 [==============================] - 1s 708us/step - loss: 3.8285e-04\n",
      "Epoch 77/100\n",
      "1238/1238 [==============================] - 1s 600us/step - loss: 3.7830e-04\n",
      "Epoch 78/100\n",
      "1238/1238 [==============================] - 1s 711us/step - loss: 3.8019e-04\n",
      "Epoch 79/100\n",
      "1238/1238 [==============================] - 1s 652us/step - loss: 3.8443e-04\n",
      "Epoch 80/100\n",
      "1238/1238 [==============================] - 1s 629us/step - loss: 3.7239e-04\n",
      "Epoch 81/100\n",
      "1238/1238 [==============================] - 1s 659us/step - loss: 3.8254e-04\n",
      "Epoch 82/100\n",
      "1238/1238 [==============================] - 1s 627us/step - loss: 3.8741e-04\n",
      "Epoch 83/100\n",
      "1238/1238 [==============================] - 1s 577us/step - loss: 3.7157e-04\n",
      "Epoch 84/100\n",
      "1238/1238 [==============================] - 1s 558us/step - loss: 3.7626e-04\n",
      "Epoch 85/100\n",
      "1238/1238 [==============================] - 1s 542us/step - loss: 3.8117e-04\n",
      "Epoch 86/100\n",
      "1238/1238 [==============================] - 1s 577us/step - loss: 3.7275e-04\n",
      "Epoch 87/100\n",
      "1238/1238 [==============================] - 1s 568us/step - loss: 3.7234e-04\n",
      "Epoch 88/100\n",
      "1238/1238 [==============================] - 1s 597us/step - loss: 3.6962e-04\n",
      "Epoch 89/100\n",
      "1238/1238 [==============================] - 1s 605us/step - loss: 3.6431e-04\n",
      "Epoch 90/100\n",
      "1238/1238 [==============================] - 1s 538us/step - loss: 3.7133e-04\n",
      "Epoch 91/100\n"
     ]
    },
    {
     "name": "stdout",
     "output_type": "stream",
     "text": [
      "1238/1238 [==============================] - 1s 603us/step - loss: 3.6811e-04\n",
      "Epoch 92/100\n",
      "1238/1238 [==============================] - 1s 601us/step - loss: 3.7376e-04\n",
      "Epoch 93/100\n",
      "1238/1238 [==============================] - 1s 598us/step - loss: 3.6745e-04\n",
      "Epoch 94/100\n",
      "1238/1238 [==============================] - 1s 612us/step - loss: 3.6324e-04\n",
      "Epoch 95/100\n",
      "1238/1238 [==============================] - 1s 536us/step - loss: 3.6520e-04\n",
      "Epoch 96/100\n",
      "1238/1238 [==============================] - 1s 548us/step - loss: 3.5668e-04\n",
      "Epoch 97/100\n",
      "1238/1238 [==============================] - 1s 546us/step - loss: 3.6547e-04\n",
      "Epoch 98/100\n",
      "1238/1238 [==============================] - 1s 551us/step - loss: 3.6607e-04\n",
      "Epoch 99/100\n",
      "1238/1238 [==============================] - 1s 577us/step - loss: 3.5871e-04\n",
      "Epoch 100/100\n",
      "1238/1238 [==============================] - 1s 537us/step - loss: 3.6636e-04\n"
     ]
    },
    {
     "data": {
      "text/plain": [
       "<keras.callbacks.History at 0x1a3070da58>"
      ]
     },
     "execution_count": 19,
     "metadata": {},
     "output_type": "execute_result"
    }
   ],
   "source": [
    "regressor.fit(X_train,y_train,batch_size=32,epochs=100)"
   ]
  },
  {
   "cell_type": "markdown",
   "metadata": {},
   "source": [
    "### Making Predictions"
   ]
  },
  {
   "cell_type": "markdown",
   "metadata": {},
   "source": [
    "#### Getting Real Stock Prices for Feb 1st 2012 - Jan 31st 2017 "
   ]
  },
  {
   "cell_type": "code",
   "execution_count": 20,
   "metadata": {},
   "outputs": [],
   "source": [
    "test_set = pd.read_csv('Google_Stock_Price_Test.csv')"
   ]
  },
  {
   "cell_type": "code",
   "execution_count": 21,
   "metadata": {},
   "outputs": [],
   "source": [
    "test_set = test_set.iloc[:,1:2].values"
   ]
  },
  {
   "cell_type": "code",
   "execution_count": 22,
   "metadata": {},
   "outputs": [],
   "source": [
    "real_stock_price = np.concatenate((training_set[0:1258], test_set), axis = 0)"
   ]
  },
  {
   "cell_type": "code",
   "execution_count": 23,
   "metadata": {},
   "outputs": [
    {
     "data": {
      "text/plain": [
       "(1278, 1)"
      ]
     },
     "execution_count": 23,
     "metadata": {},
     "output_type": "execute_result"
    }
   ],
   "source": [
    "real_stock_price.shape"
   ]
  },
  {
   "cell_type": "markdown",
   "metadata": {},
   "source": [
    "####  Getting the predicted stock price of 2017"
   ]
  },
  {
   "cell_type": "code",
   "execution_count": 24,
   "metadata": {},
   "outputs": [],
   "source": [
    "scaled_real_stock_price = sc.fit_transform(real_stock_price)"
   ]
  },
  {
   "cell_type": "code",
   "execution_count": 25,
   "metadata": {},
   "outputs": [],
   "source": [
    "inputs = []\n",
    "for i in range(1258,1278):\n",
    "    inputs.append(scaled_real_stock_price[i-20:i,0])"
   ]
  },
  {
   "cell_type": "code",
   "execution_count": 26,
   "metadata": {},
   "outputs": [],
   "source": [
    "inputs = np.array(inputs)"
   ]
  },
  {
   "cell_type": "code",
   "execution_count": 27,
   "metadata": {},
   "outputs": [
    {
     "data": {
      "text/plain": [
       "(20, 20)"
      ]
     },
     "execution_count": 27,
     "metadata": {},
     "output_type": "execute_result"
    }
   ],
   "source": [
    "inputs.shape"
   ]
  },
  {
   "cell_type": "code",
   "execution_count": 28,
   "metadata": {},
   "outputs": [],
   "source": [
    "inputs = np.reshape(inputs,(inputs.shape[0],inputs.shape[1],1))"
   ]
  },
  {
   "cell_type": "code",
   "execution_count": 29,
   "metadata": {},
   "outputs": [],
   "source": [
    "predicted_stock_price = regressor.predict(inputs)"
   ]
  },
  {
   "cell_type": "code",
   "execution_count": 30,
   "metadata": {},
   "outputs": [],
   "source": [
    "predicted_stock_price = sc.inverse_transform(predicted_stock_price)"
   ]
  },
  {
   "cell_type": "markdown",
   "metadata": {},
   "source": [
    "### Visualising the Results"
   ]
  },
  {
   "cell_type": "code",
   "execution_count": 31,
   "metadata": {},
   "outputs": [
    {
     "data": {
      "image/png": "[encoded data removed]",
      "text/plain": [
       "<matplotlib.figure.Figure at 0x1a30f481d0>"
      ]
     },
     "metadata": {},
     "output_type": "display_data"
    }
   ],
   "source": [
    "plt.plot(real_stock_price[1258:],color='red',label='Real Google Stock Price')\n",
    "plt.plot(predicted_stock_price,color='blue',label='Predicted Google Stock Price')\n",
    "plt.title('Google Stock Price Prediction')\n",
    "plt.xlabel('Time')\n",
    "plt.ylabel('Google Stock Price')\n",
    "plt.legend()\n",
    "plt.show()"
   ]
  },
  {
   "cell_type": "code",
   "execution_count": null,
   "metadata": {},
   "outputs": [],
   "source": []
  }
 ],
 "metadata": {
  "kernelspec": {
   "display_name": "Python 3",
   "language": "python",
   "name": "python3"
  },
  "language_info": {
   "codemirror_mode": {
    "name": "ipython",
    "version": 3
   },
   "file_extension": ".py",
   "mimetype": "text/x-python",
   "name": "python",
   "nbconvert_exporter": "python",
   "pygments_lexer": "ipython3",
   "version": "3.6.6"
  }
 },
 "nbformat": 4,
 "nbformat_minor": 2
}
