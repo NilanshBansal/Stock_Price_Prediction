{
 "cells": [
  {
   "cell_type": "code",
   "execution_count": 1,
   "metadata": {},
   "outputs": [],
   "source": [
    "import numpy as np\n",
    "import pandas as pd\n",
    "import matplotlib.pyplot as plt"
   ]
  },
  {
   "cell_type": "code",
   "execution_count": 2,
   "metadata": {},
   "outputs": [],
   "source": [
    "training_set = pd.read_csv('Google_Stock_Price_Train.csv')"
   ]
  },
  {
   "cell_type": "code",
   "execution_count": 3,
   "metadata": {},
   "outputs": [
    {
     "data": {
      "text/html": [
       "<div>\n",
       "<style>\n",
       "    .dataframe thead tr:only-child th {\n",
       "        text-align: right;\n",
       "    }\n",
       "\n",
       "    .dataframe thead th {\n",
       "        text-align: left;\n",
       "    }\n",
       "\n",
       "    .dataframe tbody tr th {\n",
       "        vertical-align: top;\n",
       "    }\n",
       "</style>\n",
       "<table border=\"1\" class=\"dataframe\">\n",
       "  <thead>\n",
       "    <tr style=\"text-align: right;\">\n",
       "      <th></th>\n",
       "      <th>Date</th>\n",
       "      <th>Open</th>\n",
       "      <th>High</th>\n",
       "      <th>Low</th>\n",
       "      <th>Close</th>\n",
       "      <th>Volume</th>\n",
       "    </tr>\n",
       "  </thead>\n",
       "  <tbody>\n",
       "    <tr>\n",
       "      <th>0</th>\n",
       "      <td>1/3/2012</td>\n",
       "      <td>325.25</td>\n",
       "      <td>332.83</td>\n",
       "      <td>324.97</td>\n",
       "      <td>663.59</td>\n",
       "      <td>7,380,500</td>\n",
       "    </tr>\n",
       "    <tr>\n",
       "      <th>1</th>\n",
       "      <td>1/4/2012</td>\n",
       "      <td>331.27</td>\n",
       "      <td>333.87</td>\n",
       "      <td>329.08</td>\n",
       "      <td>666.45</td>\n",
       "      <td>5,749,400</td>\n",
       "    </tr>\n",
       "    <tr>\n",
       "      <th>2</th>\n",
       "      <td>1/5/2012</td>\n",
       "      <td>329.83</td>\n",
       "      <td>330.75</td>\n",
       "      <td>326.89</td>\n",
       "      <td>657.21</td>\n",
       "      <td>6,590,300</td>\n",
       "    </tr>\n",
       "    <tr>\n",
       "      <th>3</th>\n",
       "      <td>1/6/2012</td>\n",
       "      <td>328.34</td>\n",
       "      <td>328.77</td>\n",
       "      <td>323.68</td>\n",
       "      <td>648.24</td>\n",
       "      <td>5,405,900</td>\n",
       "    </tr>\n",
       "    <tr>\n",
       "      <th>4</th>\n",
       "      <td>1/9/2012</td>\n",
       "      <td>322.04</td>\n",
       "      <td>322.29</td>\n",
       "      <td>309.46</td>\n",
       "      <td>620.76</td>\n",
       "      <td>11,688,800</td>\n",
       "    </tr>\n",
       "  </tbody>\n",
       "</table>\n",
       "</div>"
      ],
      "text/plain": [
       "       Date    Open    High     Low   Close      Volume\n",
       "0  1/3/2012  325.25  332.83  324.97  663.59   7,380,500\n",
       "1  1/4/2012  331.27  333.87  329.08  666.45   5,749,400\n",
       "2  1/5/2012  329.83  330.75  326.89  657.21   6,590,300\n",
       "3  1/6/2012  328.34  328.77  323.68  648.24   5,405,900\n",
       "4  1/9/2012  322.04  322.29  309.46  620.76  11,688,800"
      ]
     },
     "execution_count": 3,
     "metadata": {},
     "output_type": "execute_result"
    }
   ],
   "source": [
    "training_set.head()"
   ]
  },
  {
   "cell_type": "code",
   "execution_count": 4,
   "metadata": {},
   "outputs": [],
   "source": [
    "training_set = training_set.iloc[:,1:2].values"
   ]
  },
  {
   "cell_type": "markdown",
   "metadata": {},
   "source": [
    "#### Feature Scaling"
   ]
  },
  {
   "cell_type": "code",
   "execution_count": 5,
   "metadata": {},
   "outputs": [],
   "source": [
    "from sklearn.preprocessing import MinMaxScaler"
   ]
  },
  {
   "cell_type": "code",
   "execution_count": 6,
   "metadata": {},
   "outputs": [],
   "source": [
    "sc = MinMaxScaler(feature_range = (0, 1))"
   ]
  },
  {
   "cell_type": "code",
   "execution_count": 7,
   "metadata": {},
   "outputs": [],
   "source": [
    "training_set_scaled = sc.fit_transform(training_set)"
   ]
  },
  {
   "cell_type": "markdown",
   "metadata": {},
   "source": [
    "#### Getting Inputs & Outputs"
   ]
  },
  {
   "cell_type": "code",
   "execution_count": 8,
   "metadata": {},
   "outputs": [
    {
     "data": {
      "text/plain": [
       "(1258, 1)"
      ]
     },
     "execution_count": 8,
     "metadata": {},
     "output_type": "execute_result"
    }
   ],
   "source": [
    "training_set.shape"
   ]
  },
  {
   "cell_type": "code",
   "execution_count": 9,
   "metadata": {},
   "outputs": [
    {
     "data": {
      "text/plain": [
       "array([[ 325.25],\n",
       "       [ 331.27],\n",
       "       [ 329.83],\n",
       "       ..., \n",
       "       [ 793.7 ],\n",
       "       [ 783.33],\n",
       "       [ 782.75]])"
      ]
     },
     "execution_count": 9,
     "metadata": {},
     "output_type": "execute_result"
    }
   ],
   "source": [
    "training_set"
   ]
  },
  {
   "cell_type": "code",
   "execution_count": 10,
   "metadata": {},
   "outputs": [],
   "source": [
    "X_train = []\n",
    "y_train = []\n",
    "for i in range(20,1258):\n",
    "    X_train.append(training_set_scaled[i-20:i,0])\n",
    "    y_train.append(training_set_scaled[i,0])\n",
    "    "
   ]
  },
  {
   "cell_type": "code",
   "execution_count": 11,
   "metadata": {},
   "outputs": [],
   "source": [
    "X_train,y_train = np.array(X_train),np.array(y_train)"
   ]
  },
  {
   "cell_type": "code",
   "execution_count": 12,
   "metadata": {},
   "outputs": [
    {
     "data": {
      "text/plain": [
       "(1238, 20)"
      ]
     },
     "execution_count": 12,
     "metadata": {},
     "output_type": "execute_result"
    }
   ],
   "source": [
    "X_train.shape"
   ]
  },
  {
   "cell_type": "markdown",
   "metadata": {},
   "source": [
    "#### Reshaping"
   ]
  },
  {
   "cell_type": "code",
   "execution_count": 13,
   "metadata": {},
   "outputs": [],
   "source": [
    "X_train = np.reshape(X_train,(X_train.shape[0],X_train.shape[1],1))"
   ]
  },
  {
   "cell_type": "markdown",
   "metadata": {},
   "source": [
    "#### Building the RNN"
   ]
  },
  {
   "cell_type": "code",
   "execution_count": 14,
   "metadata": {},
   "outputs": [
    {
     "name": "stderr",
     "output_type": "stream",
     "text": [
      "Using TensorFlow backend.\n"
     ]
    }
   ],
   "source": [
    "from keras.models import Sequential\n",
    "from keras.layers import LSTM,Dense"
   ]
  },
  {
   "cell_type": "code",
   "execution_count": 15,
   "metadata": {},
   "outputs": [],
   "source": [
    "regressor = Sequential()"
   ]
  },
  {
   "cell_type": "code",
   "execution_count": 16,
   "metadata": {},
   "outputs": [],
   "source": [
    "regressor.add(LSTM(units=3,activation='sigmoid',input_shape=(None,1)))"
   ]
  },
  {
   "cell_type": "code",
   "execution_count": 17,
   "metadata": {},
   "outputs": [],
   "source": [
    "regressor.add(Dense(units=1))"
   ]
  },
  {
   "cell_type": "code",
   "execution_count": 18,
   "metadata": {},
   "outputs": [],
   "source": [
    "regressor.compile(optimizer='rmsprop',loss='mean_squared_error')"
   ]
  },
  {
   "cell_type": "code",
   "execution_count": 19,
   "metadata": {},
   "outputs": [
    {
     "name": "stdout",
     "output_type": "stream",
     "text": [
      "Epoch 1/100\n",
      "1238/1238 [==============================] - 1s 1ms/step - loss: 1.4468\n",
      "Epoch 2/100\n",
      "1238/1238 [==============================] - 1s 572us/step - loss: 1.1732\n",
      "Epoch 3/100\n",
      "1238/1238 [==============================] - 1s 574us/step - loss: 0.9581\n",
      "Epoch 4/100\n",
      "1238/1238 [==============================] - 1s 570us/step - loss: 0.7799\n",
      "Epoch 5/100\n",
      "1238/1238 [==============================] - 1s 576us/step - loss: 0.6321\n",
      "Epoch 6/100\n",
      "1238/1238 [==============================] - 1s 571us/step - loss: 0.5084\n",
      "Epoch 7/100\n",
      "1238/1238 [==============================] - 1s 572us/step - loss: 0.4061\n",
      "Epoch 8/100\n",
      "1238/1238 [==============================] - 1s 571us/step - loss: 0.3221\n",
      "Epoch 9/100\n",
      "1238/1238 [==============================] - 1s 558us/step - loss: 0.2535\n",
      "Epoch 10/100\n",
      "1238/1238 [==============================] - 1s 551us/step - loss: 0.1981\n",
      "Epoch 11/100\n",
      "1238/1238 [==============================] - 1s 576us/step - loss: 0.1552\n",
      "Epoch 12/100\n",
      "1238/1238 [==============================] - 1s 564us/step - loss: 0.1233\n",
      "Epoch 13/100\n",
      "1238/1238 [==============================] - 1s 559us/step - loss: 0.1000\n",
      "Epoch 14/100\n",
      "1238/1238 [==============================] - 1s 569us/step - loss: 0.0851\n",
      "Epoch 15/100\n",
      "1238/1238 [==============================] - 1s 566us/step - loss: 0.0768\n",
      "Epoch 16/100\n",
      "1238/1238 [==============================] - 1s 575us/step - loss: 0.0726\n",
      "Epoch 17/100\n",
      "1238/1238 [==============================] - 1s 576us/step - loss: 0.0698\n",
      "Epoch 18/100\n",
      "1238/1238 [==============================] - 1s 575us/step - loss: 0.0676\n",
      "Epoch 19/100\n",
      "1238/1238 [==============================] - 1s 573us/step - loss: 0.0653\n",
      "Epoch 20/100\n",
      "1238/1238 [==============================] - 1s 569us/step - loss: 0.0629\n",
      "Epoch 21/100\n",
      "1238/1238 [==============================] - 1s 575us/step - loss: 0.0602\n",
      "Epoch 22/100\n",
      "1238/1238 [==============================] - 1s 573us/step - loss: 0.0575\n",
      "Epoch 23/100\n",
      "1238/1238 [==============================] - 1s 571us/step - loss: 0.0546\n",
      "Epoch 24/100\n",
      "1238/1238 [==============================] - 1s 574us/step - loss: 0.0514\n",
      "Epoch 25/100\n",
      "1238/1238 [==============================] - 1s 574us/step - loss: 0.0480\n",
      "Epoch 26/100\n",
      "1238/1238 [==============================] - 1s 536us/step - loss: 0.0442\n",
      "Epoch 27/100\n",
      "1238/1238 [==============================] - 1s 567us/step - loss: 0.0403\n",
      "Epoch 28/100\n",
      "1238/1238 [==============================] - 1s 575us/step - loss: 0.0360\n",
      "Epoch 29/100\n",
      "1238/1238 [==============================] - 1s 579us/step - loss: 0.0313\n",
      "Epoch 30/100\n",
      "1238/1238 [==============================] - 1s 574us/step - loss: 0.0266\n",
      "Epoch 31/100\n",
      "1238/1238 [==============================] - 1s 575us/step - loss: 0.0216\n",
      "Epoch 32/100\n",
      "1238/1238 [==============================] - 1s 575us/step - loss: 0.0167\n",
      "Epoch 33/100\n",
      "1238/1238 [==============================] - 1s 578us/step - loss: 0.0121\n",
      "Epoch 34/100\n",
      "1238/1238 [==============================] - 1s 579us/step - loss: 0.0081\n",
      "Epoch 35/100\n",
      "1238/1238 [==============================] - 1s 575us/step - loss: 0.0051\n",
      "Epoch 36/100\n",
      "1238/1238 [==============================] - 1s 580us/step - loss: 0.0032\n",
      "Epoch 37/100\n",
      "1238/1238 [==============================] - 1s 575us/step - loss: 0.0023\n",
      "Epoch 38/100\n",
      "1238/1238 [==============================] - 1s 573us/step - loss: 0.0018\n",
      "Epoch 39/100\n",
      "1238/1238 [==============================] - 1s 570us/step - loss: 0.0015\n",
      "Epoch 40/100\n",
      "1238/1238 [==============================] - 1s 571us/step - loss: 0.0012\n",
      "Epoch 41/100\n",
      "1238/1238 [==============================] - 1s 558us/step - loss: 9.6462e-04\n",
      "Epoch 42/100\n",
      "1238/1238 [==============================] - 1s 575us/step - loss: 7.7537e-04\n",
      "Epoch 43/100\n",
      "1238/1238 [==============================] - 1s 537us/step - loss: 6.2244e-04\n",
      "Epoch 44/100\n",
      "1238/1238 [==============================] - 1s 579us/step - loss: 5.1457e-04\n",
      "Epoch 45/100\n",
      "1238/1238 [==============================] - 1s 555us/step - loss: 4.3902e-04\n",
      "Epoch 46/100\n",
      "1238/1238 [==============================] - 1s 538us/step - loss: 3.8663e-04\n",
      "Epoch 47/100\n",
      "1238/1238 [==============================] - 1s 567us/step - loss: 3.5078e-04\n",
      "Epoch 48/100\n",
      "1238/1238 [==============================] - 1s 557us/step - loss: 3.2778e-04\n",
      "Epoch 49/100\n",
      "1238/1238 [==============================] - 1s 543us/step - loss: 3.0759e-04\n",
      "Epoch 50/100\n",
      "1238/1238 [==============================] - 1s 535us/step - loss: 2.9744e-04\n",
      "Epoch 51/100\n",
      "1238/1238 [==============================] - 1s 521us/step - loss: 2.8664e-04\n",
      "Epoch 52/100\n",
      "1238/1238 [==============================] - 1s 574us/step - loss: 2.8026e-04\n",
      "Epoch 53/100\n",
      "1238/1238 [==============================] - 1s 555us/step - loss: 2.7161e-04\n",
      "Epoch 54/100\n",
      "1238/1238 [==============================] - 1s 588us/step - loss: 2.6727e-04\n",
      "Epoch 55/100\n",
      "1238/1238 [==============================] - 1s 603us/step - loss: 2.6808e-04\n",
      "Epoch 56/100\n",
      "1238/1238 [==============================] - 1s 599us/step - loss: 2.6599e-04\n",
      "Epoch 57/100\n",
      "1238/1238 [==============================] - 1s 755us/step - loss: 2.6447e-04\n",
      "Epoch 58/100\n",
      "1238/1238 [==============================] - 1s 708us/step - loss: 2.6338e-04\n",
      "Epoch 59/100\n",
      "1238/1238 [==============================] - 1s 676us/step - loss: 2.6156e-04\n",
      "Epoch 60/100\n",
      "1238/1238 [==============================] - 1s 645us/step - loss: 2.6000e-04\n",
      "Epoch 61/100\n",
      "1238/1238 [==============================] - 1s 648us/step - loss: 2.6222e-04\n",
      "Epoch 62/100\n",
      "1238/1238 [==============================] - 1s 641us/step - loss: 2.5983e-04\n",
      "Epoch 63/100\n",
      "1238/1238 [==============================] - 1s 640us/step - loss: 2.5968e-04\n",
      "Epoch 64/100\n",
      "1238/1238 [==============================] - 1s 541us/step - loss: 2.5994e-04\n",
      "Epoch 65/100\n",
      "1238/1238 [==============================] - 1s 517us/step - loss: 2.5901e-04\n",
      "Epoch 66/100\n",
      "1238/1238 [==============================] - 1s 565us/step - loss: 2.5740e-04\n",
      "Epoch 67/100\n",
      "1238/1238 [==============================] - 1s 534us/step - loss: 2.5925e-04\n",
      "Epoch 68/100\n",
      "1238/1238 [==============================] - 1s 543us/step - loss: 2.5499e-04\n",
      "Epoch 69/100\n",
      "1238/1238 [==============================] - 1s 530us/step - loss: 2.5901e-04\n",
      "Epoch 70/100\n",
      "1238/1238 [==============================] - 1s 558us/step - loss: 2.5787e-04\n",
      "Epoch 71/100\n",
      "1238/1238 [==============================] - 1s 547us/step - loss: 2.5466e-04\n",
      "Epoch 72/100\n",
      "1238/1238 [==============================] - 1s 518us/step - loss: 2.5826e-04\n",
      "Epoch 73/100\n",
      "1238/1238 [==============================] - 1s 522us/step - loss: 2.5799e-04\n",
      "Epoch 74/100\n",
      "1238/1238 [==============================] - 1s 538us/step - loss: 2.5661e-04\n",
      "Epoch 75/100\n",
      "1238/1238 [==============================] - 1s 531us/step - loss: 2.5398e-04\n",
      "Epoch 76/100\n",
      "1238/1238 [==============================] - 1s 530us/step - loss: 2.5278e-04\n",
      "Epoch 77/100\n",
      "1238/1238 [==============================] - 1s 575us/step - loss: 2.5524e-04\n",
      "Epoch 78/100\n",
      "1238/1238 [==============================] - 1s 612us/step - loss: 2.5517e-04\n",
      "Epoch 79/100\n",
      "1238/1238 [==============================] - 1s 595us/step - loss: 2.5698e-04\n",
      "Epoch 80/100\n",
      "1238/1238 [==============================] - 1s 536us/step - loss: 2.5432e-04\n",
      "Epoch 81/100\n",
      "1238/1238 [==============================] - 1s 540us/step - loss: 2.5652e-04\n",
      "Epoch 82/100\n",
      "1238/1238 [==============================] - 1s 539us/step - loss: 2.5541e-04\n",
      "Epoch 83/100\n",
      "1238/1238 [==============================] - 1s 541us/step - loss: 2.5470e-04\n",
      "Epoch 84/100\n",
      "1238/1238 [==============================] - 1s 528us/step - loss: 2.5555e-04\n",
      "Epoch 85/100\n",
      "1238/1238 [==============================] - 1s 529us/step - loss: 2.5559e-04\n",
      "Epoch 86/100\n",
      "1238/1238 [==============================] - 1s 573us/step - loss: 2.5349e-04\n",
      "Epoch 87/100\n",
      "1238/1238 [==============================] - 1s 620us/step - loss: 2.5647e-04\n",
      "Epoch 88/100\n",
      "1238/1238 [==============================] - 1s 608us/step - loss: 2.5563e-04\n",
      "Epoch 89/100\n",
      "1238/1238 [==============================] - 1s 600us/step - loss: 2.5438e-04\n",
      "Epoch 90/100\n",
      "1238/1238 [==============================] - 1s 600us/step - loss: 2.5333e-04\n",
      "Epoch 91/100\n",
      "1238/1238 [==============================] - 1s 624us/step - loss: 2.5355e-04\n",
      "Epoch 92/100\n"
     ]
    },
    {
     "name": "stdout",
     "output_type": "stream",
     "text": [
      "1238/1238 [==============================] - 1s 597us/step - loss: 2.5408e-04\n",
      "Epoch 93/100\n",
      "1238/1238 [==============================] - 1s 600us/step - loss: 2.5317e-04\n",
      "Epoch 94/100\n",
      "1238/1238 [==============================] - 1s 611us/step - loss: 2.5409e-04\n",
      "Epoch 95/100\n",
      "1238/1238 [==============================] - 1s 601us/step - loss: 2.5492e-04\n",
      "Epoch 96/100\n",
      "1238/1238 [==============================] - 1s 593us/step - loss: 2.5382e-04\n",
      "Epoch 97/100\n",
      "1238/1238 [==============================] - 1s 599us/step - loss: 2.5060e-04\n",
      "Epoch 98/100\n",
      "1238/1238 [==============================] - 1s 585us/step - loss: 2.5416e-04\n",
      "Epoch 99/100\n",
      "1238/1238 [==============================] - 1s 583us/step - loss: 2.5371e-04\n",
      "Epoch 100/100\n",
      "1238/1238 [==============================] - 1s 599us/step - loss: 2.5507e-04\n"
     ]
    },
    {
     "data": {
      "text/plain": [
       "<keras.callbacks.History at 0x1a285bbf98>"
      ]
     },
     "execution_count": 19,
     "metadata": {},
     "output_type": "execute_result"
    }
   ],
   "source": [
    "regressor.fit(X_train,y_train,batch_size=32,epochs=100)"
   ]
  },
  {
   "cell_type": "markdown",
   "metadata": {},
   "source": [
    "### Making Predictions"
   ]
  },
  {
   "cell_type": "markdown",
   "metadata": {},
   "source": [
    "#### Getting Real Stock Prices for Feb 1st 2012 - Jan 31st 2017 "
   ]
  },
  {
   "cell_type": "code",
   "execution_count": 20,
   "metadata": {},
   "outputs": [],
   "source": [
    "test_set = pd.read_csv('Google_Stock_Price_Test.csv')"
   ]
  },
  {
   "cell_type": "code",
   "execution_count": 21,
   "metadata": {},
   "outputs": [],
   "source": [
    "test_set = test_set.iloc[:,1:2].values"
   ]
  },
  {
   "cell_type": "code",
   "execution_count": 22,
   "metadata": {},
   "outputs": [],
   "source": [
    "real_stock_price = np.concatenate((training_set[0:1258], test_set), axis = 0)"
   ]
  },
  {
   "cell_type": "code",
   "execution_count": 23,
   "metadata": {},
   "outputs": [
    {
     "data": {
      "text/plain": [
       "(1278, 1)"
      ]
     },
     "execution_count": 23,
     "metadata": {},
     "output_type": "execute_result"
    }
   ],
   "source": [
    "real_stock_price.shape"
   ]
  },
  {
   "cell_type": "markdown",
   "metadata": {},
   "source": [
    "####  Getting the predicted stock price of 2017"
   ]
  },
  {
   "cell_type": "code",
   "execution_count": 24,
   "metadata": {},
   "outputs": [],
   "source": [
    "scaled_real_stock_price = sc.fit_transform(real_stock_price)"
   ]
  },
  {
   "cell_type": "code",
   "execution_count": 25,
   "metadata": {},
   "outputs": [],
   "source": [
    "inputs = []\n",
    "for i in range(1258,1278):\n",
    "    inputs.append(scaled_real_stock_price[i-20:i,0])"
   ]
  },
  {
   "cell_type": "code",
   "execution_count": 26,
   "metadata": {},
   "outputs": [],
   "source": [
    "inputs = np.array(inputs)"
   ]
  },
  {
   "cell_type": "code",
   "execution_count": 27,
   "metadata": {},
   "outputs": [
    {
     "data": {
      "text/plain": [
       "(20, 20)"
      ]
     },
     "execution_count": 27,
     "metadata": {},
     "output_type": "execute_result"
    }
   ],
   "source": [
    "inputs.shape"
   ]
  },
  {
   "cell_type": "code",
   "execution_count": 28,
   "metadata": {},
   "outputs": [],
   "source": [
    "inputs = np.reshape(inputs,(inputs.shape[0],inputs.shape[1],1))"
   ]
  },
  {
   "cell_type": "code",
   "execution_count": 29,
   "metadata": {},
   "outputs": [],
   "source": [
    "predicted_stock_price = regressor.predict(inputs)"
   ]
  },
  {
   "cell_type": "code",
   "execution_count": 30,
   "metadata": {},
   "outputs": [],
   "source": [
    "predicted_stock_price = sc.inverse_transform(predicted_stock_price)"
   ]
  },
  {
   "cell_type": "markdown",
   "metadata": {},
   "source": [
    "### Visualising the Results"
   ]
  },
  {
   "cell_type": "code",
   "execution_count": 31,
   "metadata": {},
   "outputs": [
    {
     "data": {
      "image/png": "[encoded data removed]",
      "text/plain": [
       "<matplotlib.figure.Figure at 0x1a28e01438>"
      ]
     },
     "metadata": {},
     "output_type": "display_data"
    }
   ],
   "source": [
    "plt.plot(real_stock_price[1258:],color='red',label='Real Google Stock Price')\n",
    "plt.plot(predicted_stock_price,color='blue',label='Predicted Google Stock Price')\n",
    "plt.title('Google Stock Price Prediction')\n",
    "plt.xlabel('Time')\n",
    "plt.ylabel('Google Stock Price')\n",
    "plt.legend()\n",
    "plt.show()"
   ]
  },
  {
   "cell_type": "markdown",
   "metadata": {},
   "source": [
    "### Evaluating the RNN"
   ]
  },
  {
   "cell_type": "code",
   "execution_count": 32,
   "metadata": {},
   "outputs": [],
   "source": [
    "import math\n",
    "from sklearn.metrics import mean_squared_error"
   ]
  },
  {
   "cell_type": "code",
   "execution_count": 33,
   "metadata": {},
   "outputs": [],
   "source": [
    "rmse = math.sqrt(mean_squared_error(real_stock_price[1258:],predicted_stock_price))"
   ]
  },
  {
   "cell_type": "code",
   "execution_count": 36,
   "metadata": {},
   "outputs": [
    {
     "data": {
      "text/plain": [
       "807.52600000000007"
      ]
     },
     "execution_count": 36,
     "metadata": {},
     "output_type": "execute_result"
    }
   ],
   "source": [
    "np.average(real_stock_price[1258:])"
   ]
  },
  {
   "cell_type": "code",
   "execution_count": 37,
   "metadata": {},
   "outputs": [],
   "source": [
    "error_percentage = (rmse/807)*100"
   ]
  },
  {
   "cell_type": "code",
   "execution_count": 38,
   "metadata": {},
   "outputs": [
    {
     "data": {
      "text/plain": [
       "1.1030300347818087"
      ]
     },
     "execution_count": 38,
     "metadata": {},
     "output_type": "execute_result"
    }
   ],
   "source": [
    "error_percentage"
   ]
  },
  {
   "cell_type": "code",
   "execution_count": null,
   "metadata": {},
   "outputs": [],
   "source": []
  }
 ],
 "metadata": {
  "kernelspec": {
   "display_name": "Python 3",
   "language": "python",
   "name": "python3"
  },
  "language_info": {
   "codemirror_mode": {
    "name": "ipython",
    "version": 3
   },
   "file_extension": ".py",
   "mimetype": "text/x-python",
   "name": "python",
   "nbconvert_exporter": "python",
   "pygments_lexer": "ipython3",
   "version": "3.6.6"
  }
 },
 "nbformat": 4,
 "nbformat_minor": 2
}
